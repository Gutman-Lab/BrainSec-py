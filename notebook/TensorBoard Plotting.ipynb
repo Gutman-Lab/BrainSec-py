{
 "cells": [
  {
   "cell_type": "code",
   "execution_count": 28,
   "metadata": {},
   "outputs": [],
   "source": [
    "import os\n",
    "import sys\n",
    "import glob\n",
    "import csv\n",
    "\n",
    "import numpy as np\n",
    "import matplotlib.pyplot as plt"
   ]
  },
  {
   "cell_type": "code",
   "execution_count": 20,
   "metadata": {},
   "outputs": [
    {
     "name": "stdout",
     "output_type": "stream",
     "text": [
      "CSV Paths:\n",
      "['./run-fit_UNet_Zero_Pad_2019O-512-SCCE_train-tag-batch_IoU_Class0_Background.csv']\n"
     ]
    }
   ],
   "source": [
    "print('CSV Paths:')\n",
    "print(glob.glob('./*.csv'))"
   ]
  },
  {
   "cell_type": "code",
   "execution_count": 43,
   "metadata": {},
   "outputs": [],
   "source": [
    "def read_tb_csv(csvfilepath: str):\n",
    "    \"\"\"Read a TensorBoard csv file and returns its content\n",
    "        Inputs: \n",
    "            csvfilepath: csv file path\n",
    "        Outputs: \n",
    "            a\n",
    "            a\n",
    "            a\n",
    "    \"\"\"\n",
    "    with open(csvfilepath, newline='') as csvfile:\n",
    "        reader = csv.DictReader(csvfile)\n",
    "        \n",
    "        # Fieldnames: ['Wall time', 'Step', 'Value']\n",
    "        # print(f'fieldnames: {reader.fieldnames}')\n",
    "        \n",
    "        wall_time, step, value = [], [], []\n",
    "        for row in reader:\n",
    "            wall_time.append(float(row['Wall time']))\n",
    "            step.append(int(row['Step']))\n",
    "            value.append(float(row['Value']))\n",
    "            \n",
    "    wall_time = np.array(wall_time)\n",
    "    wall_time -= wall_time[0]\n",
    "    \n",
    "    return wall_time, step, value"
   ]
  },
  {
   "cell_type": "code",
   "execution_count": 44,
   "metadata": {},
   "outputs": [],
   "source": [
    "wall_time, step, value \\\n",
    "    = read_tb_csv('./run-fit_UNet_Zero_Pad_2019O-512-SCCE_train-tag-batch_IoU_Class0_Background.csv')"
   ]
  },
  {
   "cell_type": "code",
   "execution_count": 46,
   "metadata": {},
   "outputs": [
    {
     "data": {
      "image/png": "[encoded data removed]",
      "text/plain": [
       "<Figure size 432x288 with 1 Axes>"
      ]
     },
     "metadata": {
      "needs_background": "light"
     },
     "output_type": "display_data"
    }
   ],
   "source": [
    "plt.plot(step, value)\n",
    "plt.grid()"
   ]
  },
  {
   "cell_type": "code",
   "execution_count": null,
   "metadata": {},
   "outputs": [],
   "source": []
  }
 ],
 "metadata": {
  "kernelspec": {
   "display_name": "Python 3",
   "language": "python",
   "name": "python3"
  },
  "language_info": {
   "codemirror_mode": {
    "name": "ipython",
    "version": 3
   },
   "file_extension": ".py",
   "mimetype": "text/x-python",
   "name": "python",
   "nbconvert_exporter": "python",
   "pygments_lexer": "ipython3",
   "version": "3.6.9"
  }
 },
 "nbformat": 4,
 "nbformat_minor": 4
}
