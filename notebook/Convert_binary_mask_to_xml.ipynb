{
 "cells": [
  {
   "cell_type": "markdown",
   "metadata": {},
   "source": [
    "### Reading xml"
   ]
  },
  {
   "cell_type": "code",
   "execution_count": 66,
   "metadata": {},
   "outputs": [],
   "source": [
    "#import xml.etree.ElementTree as ET\n",
    "import lxml.etree as ET\n",
    "from xml.dom import minidom\n",
    "\n",
    "import numpy as np\n",
    "from PIL import Image\n",
    "from skimage import measure\n",
    "Image.MAX_IMAGE_PIXELS = None"
   ]
  },
  {
   "cell_type": "code",
   "execution_count": 111,
   "metadata": {},
   "outputs": [],
   "source": [
    "XML_PATH = '/BrainSeg/data/box_Ab/NA3777-02_AB.xml'"
   ]
  },
  {
   "cell_type": "code",
   "execution_count": 5,
   "metadata": {},
   "outputs": [],
   "source": [
    "tree = ET.parse(XML_PATH)\n",
    "root = tree.getroot()"
   ]
  },
  {
   "cell_type": "code",
   "execution_count": 9,
   "metadata": {},
   "outputs": [
    {
     "data": {
      "text/plain": [
       "{'MicronsPerPixel': '0.502700'}"
      ]
     },
     "execution_count": 9,
     "metadata": {},
     "output_type": "execute_result"
    }
   ],
   "source": [
    "root.attrib"
   ]
  },
  {
   "cell_type": "code",
   "execution_count": 12,
   "metadata": {},
   "outputs": [
    {
     "name": "stdout",
     "output_type": "stream",
     "text": [
      "Annotation {'Id': '1', 'Name': '', 'ReadOnly': '0', 'NameReadOnly': '0', 'LineColorReadOnly': '0', 'Incremental': '0', 'Type': '4', 'LineColor': '65280', 'Visible': '1', 'Selected': '1', 'MarkupImagePath': '', 'MacroName': ''}\n",
      "Attributes {}\n",
      "Regions {}\n",
      "Plots {}\n"
     ]
    }
   ],
   "source": [
    "for child in root:\n",
    "    print(child.tag, child.attrib)\n",
    "    for childchild in child:\n",
    "        print(childchild.tag, childchild.attrib)"
   ]
  },
  {
   "cell_type": "markdown",
   "metadata": {},
   "source": [
    "### Writing xml"
   ]
  },
  {
   "cell_type": "code",
   "execution_count": 98,
   "metadata": {},
   "outputs": [],
   "source": [
    "SAVE_PATH = '/BrainSeg/NA3777-02_AB_new.xml'"
   ]
  },
  {
   "cell_type": "code",
   "execution_count": 99,
   "metadata": {},
   "outputs": [],
   "source": [
    "def get_regions_node(parent_node):\n",
    "    regions_node = ET.SubElement(parent_node, 'Regions')\n",
    "    headers_node = ET.SubElement(regions_node, 'RegionAttributeHeaders')\n",
    "    ET.SubElement(headers_node, 'AttributeHeader', attrib={'Id': \"9999\", 'Name': \"Region\", 'ColumnWidth': \"-1\"})\n",
    "    ET.SubElement(headers_node, 'AttributeHeader', attrib={'Id': \"9997\", 'Name': \"Length\", 'ColumnWidth': \"-1\"})\n",
    "    ET.SubElement(headers_node, 'AttributeHeader', attrib={'Id': \"9996\", 'Name': \"Area\", 'ColumnWidth': \"-1\"})\n",
    "    ET.SubElement(headers_node, 'AttributeHeader', attrib={'Id': \"9998\", 'Name': \"Text\", 'ColumnWidth': \"-1\"})\n",
    "    return regions_node"
   ]
  },
  {
   "cell_type": "code",
   "execution_count": 109,
   "metadata": {},
   "outputs": [
    {
     "data": {
      "text/plain": [
       "<Element Plots at 0x7f60aa2dcd48>"
      ]
     },
     "execution_count": 109,
     "metadata": {},
     "output_type": "execute_result"
    }
   ],
   "source": [
    "# Create base structure\n",
    "# ET.SubElement(parent, tag, attrib={}, **extra)\n",
    "root = ET.Element('Annotations')\n",
    "GM_node = ET.SubElement(root, 'Annotation', attrib={'Id': \"1\", 'Name': \"Gray Matter\"})\n",
    "WM_node = ET.SubElement(root, 'Annotation', attrib={'Id': \"2\", 'Name': \"White Matter\"})\n",
    "\n",
    "GM_regions_node = get_regions_node(GM_node)\n",
    "WM_regions_node = get_regions_node(WM_node)\n",
    "\n",
    "ET.SubElement(GM_node, 'Plots')\n",
    "ET.SubElement(WM_node, 'Plots')"
   ]
  },
  {
   "cell_type": "code",
   "execution_count": null,
   "metadata": {},
   "outputs": [],
   "source": []
  },
  {
   "cell_type": "code",
   "execution_count": 114,
   "metadata": {},
   "outputs": [],
   "source": [
    "tree = ET.ElementTree(root)\n",
    "tree.write(SAVE_PATH, pretty_print=True)"
   ]
  },
  {
   "cell_type": "markdown",
   "metadata": {},
   "source": [
    "### Writing boundary to xml"
   ]
  },
  {
   "cell_type": "code",
   "execution_count": 108,
   "metadata": {},
   "outputs": [],
   "source": [
    "BOUNDARY_PATH = '/BrainSeg/data/outputs/UNet_Zero_Pad_2019O-512-BSCCE_cp-003-0.8061_postproc_method6_boundary/NA3777-02_AB.png'\n",
    "MASK_PATH = '/BrainSeg/data/outputs/UNet_Zero_Pad_2019O-512-BSCCE_cp-003-0.8061_postproc_method6/NA4626-02_AB.png'"
   ]
  },
  {
   "cell_type": "code",
   "execution_count": 64,
   "metadata": {},
   "outputs": [],
   "source": [
    "# boundary_img_arr = np.array(Image.open(BOUNDARY_PATH))"
   ]
  },
  {
   "cell_type": "code",
   "execution_count": 110,
   "metadata": {},
   "outputs": [],
   "source": [
    "def build_boundary_xml(mask_arr, regions_node, downsample_rate=50):\n",
    "    contours = measure.find_contours(mask_arr, 0, fully_connected='high')\n",
    "    \n",
    "    for i, contour in enumerate(contours):\n",
    "        region_node = ET.SubElement(regions_node, 'Region', attrib={'Id': str(i+1), 'DisplayId': str(i+1)})\n",
    "        vertices_node = ET.SubElement(region_node, 'Vertices')\n",
    "        for y, x in contour[::downsample_rate]: \n",
    "            ET.SubElement(vertices_node, 'Vertex', attrib={'X': str(int(x)),'Y': str(int(y)), 'Z': \"0\"})"
   ]
  },
  {
   "cell_type": "code",
   "execution_count": 112,
   "metadata": {},
   "outputs": [],
   "source": [
    "mask_arr = np.array(Image.open(MASK_PATH))"
   ]
  },
  {
   "cell_type": "code",
   "execution_count": 113,
   "metadata": {},
   "outputs": [],
   "source": [
    "build_boundary_xml(mask_arr==1, GM_regions_node)\n",
    "build_boundary_xml(mask_arr==2, WM_regions_node)"
   ]
  },
  {
   "cell_type": "code",
   "execution_count": null,
   "metadata": {},
   "outputs": [],
   "source": []
  }
 ],
 "metadata": {
  "kernelspec": {
   "display_name": "Python 3",
   "language": "python",
   "name": "python3"
  },
  "language_info": {
   "codemirror_mode": {
    "name": "ipython",
    "version": 3
   },
   "file_extension": ".py",
   "mimetype": "text/x-python",
   "name": "python",
   "nbconvert_exporter": "python",
   "pygments_lexer": "ipython3",
   "version": "3.6.9"
  }
 },
 "nbformat": 4,
 "nbformat_minor": 4
}
